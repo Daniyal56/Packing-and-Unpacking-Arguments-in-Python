{
 "cells": [
  {
   "cell_type": "code",
   "execution_count": 6,
   "metadata": {},
   "outputs": [
    {
     "name": "stdout",
     "output_type": "stream",
     "text": [
      "1 2 3 4\n"
     ]
    }
   ],
   "source": [
    "def f(a,b,c,d):\n",
    "    print(a,b,c,d)\n",
    "my_list = [1,2,3,4]\n",
    "f(*my_list)"
   ]
  },
  {
   "cell_type": "code",
   "execution_count": 3,
   "metadata": {},
   "outputs": [
    {
     "name": "stdout",
     "output_type": "stream",
     "text": [
      "1 5 2\n"
     ]
    }
   ],
   "source": [
    "def fun(a,b,c):\n",
    "    print(a,b,c)\n",
    "\n",
    "mylist= [1,5,2]\n",
    "fun(*mylist)"
   ]
  },
  {
   "cell_type": "code",
   "execution_count": 37,
   "metadata": {},
   "outputs": [
    {
     "name": "stdout",
     "output_type": "stream",
     "text": [
      "Geeks for Geeks awesome world!\n"
     ]
    }
   ],
   "source": [
    "def fun(a,b,c):\n",
    "    print(a,b,c)\n",
    "    \n",
    "def fun2(*args):\n",
    "    args = list(args)\n",
    "    \n",
    "    args[0]= 'Geeks for Geeks'\n",
    "    args[1] = 'awesome'\n",
    "\n",
    "    fun(*args)\n",
    "    \n",
    "fun2('Hello', 'beautiful', 'world!')    \n"
   ]
  },
  {
   "cell_type": "code",
   "execution_count": 5,
   "metadata": {},
   "outputs": [
    {
     "name": "stdout",
     "output_type": "stream",
     "text": [
      "Geeks Python nice\n"
     ]
    }
   ],
   "source": [
    "def fun(a,b,c):\n",
    "    print(a,b,c)\n",
    "    \n",
    "def fun1(*args):\n",
    "    args = list(args)\n",
    "    args[0]= 'Geeks'\n",
    "    args[1]= 'Python'\n",
    "    \n",
    "    fun(*args)\n",
    "fun1('hello', 'World', 'nice')"
   ]
  },
  {
   "cell_type": "code",
   "execution_count": 36,
   "metadata": {},
   "outputs": [
    {
     "name": "stdout",
     "output_type": "stream",
     "text": [
      "Geeksforgeeks awesome world!\n"
     ]
    }
   ],
   "source": [
    "def fun1(a, b, c): \n",
    "    print(a, b, c) \n",
    "  \n",
    "# Another sample function. \n",
    "# This is an example of PACKING. All arguments passed \n",
    "# to fun2 are packed into tuple *args. \n",
    "def fun2(*args): \n",
    "  \n",
    "    # Convert args tuple to a list so we can modify it \n",
    "    args = list(args) \n",
    "  \n",
    "    # Modifying args \n",
    "    args[0] = 'Geeksforgeeks'\n",
    "    args[1] = 'awesome'\n",
    "  \n",
    "    # UNPACKING args and calling fun1() \n",
    "    fun1(*args) \n",
    "  \n",
    "# Driver code \n",
    "fun2('Hello', 'beautiful', 'world!') \n"
   ]
  },
  {
   "cell_type": "code",
   "execution_count": 41,
   "metadata": {},
   "outputs": [
    {
     "name": "stdout",
     "output_type": "stream",
     "text": [
      "Geeks Awesome Nice\n"
     ]
    }
   ],
   "source": [
    "def fun(a,b,c):\n",
    "    print(a,b,c)\n",
    "    \n",
    "def fun1(*args):\n",
    "    args = list(args)\n",
    "    args[0] = 'Geeks'\n",
    "    args[1] = 'Awesome'\n",
    "    args[2] = 'Nice'\n",
    "    \n",
    "    fun(*args)\n",
    "    \n",
    "fun1('Hello', 'asd', 'asd')"
   ]
  },
  {
   "cell_type": "code",
   "execution_count": 42,
   "metadata": {},
   "outputs": [
    {
     "name": "stdout",
     "output_type": "stream",
     "text": [
      "0 1 2\n"
     ]
    }
   ],
   "source": [
    "def fun(a,b,c):\n",
    "    print(a,b,c)\n",
    "    \n",
    "d = {'a': 0, 'b': 1, 'c': 2}\n",
    "fun(**d)"
   ]
  },
  {
   "cell_type": "code",
   "execution_count": 6,
   "metadata": {},
   "outputs": [
    {
     "name": "stdout",
     "output_type": "stream",
     "text": [
      "1 2 3\n"
     ]
    }
   ],
   "source": [
    "def fun(a,b,c):\n",
    "    print(a,b,c)\n",
    "\n",
    "    \n",
    "d = {'a':1, 'b':2,'c':3}\n",
    "fun(**d)"
   ]
  },
  {
   "cell_type": "code",
   "execution_count": 45,
   "metadata": {},
   "outputs": [
    {
     "name": "stdout",
     "output_type": "stream",
     "text": [
      "<class 'dict'>\n",
      "name = geeks\n",
      "ID = 101\n",
      "language = Python\n"
     ]
    }
   ],
   "source": [
    "def fun(**kwargs): \n",
    "  \n",
    "    # kwargs is a dict \n",
    "    print(type(kwargs)) \n",
    "  \n",
    "    # Printing dictionary items \n",
    "    for key in kwargs: \n",
    "        print(\"%s = %s\" % (key, kwargs[key])) \n",
    "  \n",
    "# Driver code \n",
    "fun(name=\"geeks\", ID=\"101\", language=\"Python\") "
   ]
  },
  {
   "cell_type": "code",
   "execution_count": 46,
   "metadata": {},
   "outputs": [
    {
     "name": "stdout",
     "output_type": "stream",
     "text": [
      "<class 'dict'>\n",
      "name Ali\n",
      "Course Python\n",
      "Institite Saylani\n"
     ]
    }
   ],
   "source": [
    "def fun(**a):\n",
    "    \n",
    "    print(type(a))\n",
    "    \n",
    "    for key in a:\n",
    "        print(key, a[key])\n",
    "        \n",
    "fun(name = 'Ali', Course = 'Python', Institite = 'Saylani')\n",
    "        "
   ]
  }
 ],
 "metadata": {
  "kernelspec": {
   "display_name": "Python 3",
   "language": "python",
   "name": "python3"
  },
  "language_info": {
   "codemirror_mode": {
    "name": "ipython",
    "version": 3
   },
   "file_extension": ".py",
   "mimetype": "text/x-python",
   "name": "python",
   "nbconvert_exporter": "python",
   "pygments_lexer": "ipython3",
   "version": "3.7.3"
  }
 },
 "nbformat": 4,
 "nbformat_minor": 2
}
